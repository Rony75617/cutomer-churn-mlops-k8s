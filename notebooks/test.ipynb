{
 "cells": [
  {
   "cell_type": "code",
   "execution_count": 40,
   "id": "3c14b763",
   "metadata": {},
   "outputs": [
    {
     "name": "stdout",
     "output_type": "stream",
     "text": [
      "hello\n"
     ]
    }
   ],
   "source": [
    "print('hello')"
   ]
  },
  {
   "cell_type": "code",
   "execution_count": 41,
   "id": "ef83673c",
   "metadata": {},
   "outputs": [],
   "source": [
    "import polars as pl\n",
    "import pandas as pd\n",
    "import numpy as np\n",
    "import matplotlib.pyplot as plt\n",
    "import seaborn as sns\n",
    "\n",
    "# Set visualization style and display options\n",
    "plt.style.use('ggplot')\n",
    "pd.set_option('display.max_columns', 200)\n",
    "\n",
    "# Scikit-learn imports for preprocessing, modeling, and evaluation\n",
    "from sklearn.compose import ColumnTransformer\n",
    "from sklearn.pipeline import Pipeline\n",
    "from sklearn.model_selection import train_test_split, GridSearchCV\n",
    "from sklearn.preprocessing import StandardScaler, OneHotEncoder\n",
    "from sklearn.linear_model import LogisticRegression\n",
    "from sklearn.metrics import accuracy_score, classification_report\n",
    "\n",
    "# Ignore warnings for cleaner output\n",
    "import warnings\n",
    "warnings.filterwarnings('ignore')"
   ]
  },
  {
   "cell_type": "code",
   "execution_count": 42,
   "id": "185816c2",
   "metadata": {},
   "outputs": [],
   "source": [
    "df = pl.read_csv('../data/WA_Fn-UseC_-Telco-Customer-Churn.csv')"
   ]
  },
  {
   "cell_type": "code",
   "execution_count": 43,
   "id": "f8799f3e",
   "metadata": {},
   "outputs": [
    {
     "data": {
      "text/html": [
       "<div><style>\n",
       ".dataframe > thead > tr,\n",
       ".dataframe > tbody > tr {\n",
       "  text-align: right;\n",
       "  white-space: pre-wrap;\n",
       "}\n",
       "</style>\n",
       "<small>shape: (5, 21)</small><table border=\"1\" class=\"dataframe\"><thead><tr><th>customerID</th><th>gender</th><th>SeniorCitizen</th><th>Partner</th><th>Dependents</th><th>tenure</th><th>PhoneService</th><th>MultipleLines</th><th>InternetService</th><th>OnlineSecurity</th><th>OnlineBackup</th><th>DeviceProtection</th><th>TechSupport</th><th>StreamingTV</th><th>StreamingMovies</th><th>Contract</th><th>PaperlessBilling</th><th>PaymentMethod</th><th>MonthlyCharges</th><th>TotalCharges</th><th>Churn</th></tr><tr><td>str</td><td>str</td><td>i64</td><td>str</td><td>str</td><td>i64</td><td>str</td><td>str</td><td>str</td><td>str</td><td>str</td><td>str</td><td>str</td><td>str</td><td>str</td><td>str</td><td>str</td><td>str</td><td>f64</td><td>f64</td><td>str</td></tr></thead><tbody><tr><td>&quot;7590-VHVEG&quot;</td><td>&quot;Female&quot;</td><td>0</td><td>&quot;Yes&quot;</td><td>&quot;No&quot;</td><td>1</td><td>&quot;No&quot;</td><td>&quot;No phone service&quot;</td><td>&quot;DSL&quot;</td><td>&quot;No&quot;</td><td>&quot;Yes&quot;</td><td>&quot;No&quot;</td><td>&quot;No&quot;</td><td>&quot;No&quot;</td><td>&quot;No&quot;</td><td>&quot;Month-to-month&quot;</td><td>&quot;Yes&quot;</td><td>&quot;Electronic check&quot;</td><td>29.85</td><td>29.85</td><td>&quot;No&quot;</td></tr><tr><td>&quot;5575-GNVDE&quot;</td><td>&quot;Male&quot;</td><td>0</td><td>&quot;No&quot;</td><td>&quot;No&quot;</td><td>34</td><td>&quot;Yes&quot;</td><td>&quot;No&quot;</td><td>&quot;DSL&quot;</td><td>&quot;Yes&quot;</td><td>&quot;No&quot;</td><td>&quot;Yes&quot;</td><td>&quot;No&quot;</td><td>&quot;No&quot;</td><td>&quot;No&quot;</td><td>&quot;One year&quot;</td><td>&quot;No&quot;</td><td>&quot;Mailed check&quot;</td><td>56.95</td><td>1889.5</td><td>&quot;No&quot;</td></tr><tr><td>&quot;3668-QPYBK&quot;</td><td>&quot;Male&quot;</td><td>0</td><td>&quot;No&quot;</td><td>&quot;No&quot;</td><td>2</td><td>&quot;Yes&quot;</td><td>&quot;No&quot;</td><td>&quot;DSL&quot;</td><td>&quot;Yes&quot;</td><td>&quot;Yes&quot;</td><td>&quot;No&quot;</td><td>&quot;No&quot;</td><td>&quot;No&quot;</td><td>&quot;No&quot;</td><td>&quot;Month-to-month&quot;</td><td>&quot;Yes&quot;</td><td>&quot;Mailed check&quot;</td><td>53.85</td><td>108.15</td><td>&quot;Yes&quot;</td></tr><tr><td>&quot;7795-CFOCW&quot;</td><td>&quot;Male&quot;</td><td>0</td><td>&quot;No&quot;</td><td>&quot;No&quot;</td><td>45</td><td>&quot;No&quot;</td><td>&quot;No phone service&quot;</td><td>&quot;DSL&quot;</td><td>&quot;Yes&quot;</td><td>&quot;No&quot;</td><td>&quot;Yes&quot;</td><td>&quot;Yes&quot;</td><td>&quot;No&quot;</td><td>&quot;No&quot;</td><td>&quot;One year&quot;</td><td>&quot;No&quot;</td><td>&quot;Bank transfer (automatic)&quot;</td><td>42.3</td><td>1840.75</td><td>&quot;No&quot;</td></tr><tr><td>&quot;9237-HQITU&quot;</td><td>&quot;Female&quot;</td><td>0</td><td>&quot;No&quot;</td><td>&quot;No&quot;</td><td>2</td><td>&quot;Yes&quot;</td><td>&quot;No&quot;</td><td>&quot;Fiber optic&quot;</td><td>&quot;No&quot;</td><td>&quot;No&quot;</td><td>&quot;No&quot;</td><td>&quot;No&quot;</td><td>&quot;No&quot;</td><td>&quot;No&quot;</td><td>&quot;Month-to-month&quot;</td><td>&quot;Yes&quot;</td><td>&quot;Electronic check&quot;</td><td>70.7</td><td>151.65</td><td>&quot;Yes&quot;</td></tr></tbody></table></div>"
      ],
      "text/plain": [
       "shape: (5, 21)\n",
       "┌────────────┬────────┬─────────────┬─────────┬───┬─────────────┬─────────────┬────────────┬───────┐\n",
       "│ customerID ┆ gender ┆ SeniorCitiz ┆ Partner ┆ … ┆ PaymentMeth ┆ MonthlyChar ┆ TotalCharg ┆ Churn │\n",
       "│ ---        ┆ ---    ┆ en          ┆ ---     ┆   ┆ od          ┆ ges         ┆ es         ┆ ---   │\n",
       "│ str        ┆ str    ┆ ---         ┆ str     ┆   ┆ ---         ┆ ---         ┆ ---        ┆ str   │\n",
       "│            ┆        ┆ i64         ┆         ┆   ┆ str         ┆ f64         ┆ f64        ┆       │\n",
       "╞════════════╪════════╪═════════════╪═════════╪═══╪═════════════╪═════════════╪════════════╪═══════╡\n",
       "│ 7590-VHVEG ┆ Female ┆ 0           ┆ Yes     ┆ … ┆ Electronic  ┆ 29.85       ┆ 29.85      ┆ No    │\n",
       "│            ┆        ┆             ┆         ┆   ┆ check       ┆             ┆            ┆       │\n",
       "│ 5575-GNVDE ┆ Male   ┆ 0           ┆ No      ┆ … ┆ Mailed      ┆ 56.95       ┆ 1889.5     ┆ No    │\n",
       "│            ┆        ┆             ┆         ┆   ┆ check       ┆             ┆            ┆       │\n",
       "│ 3668-QPYBK ┆ Male   ┆ 0           ┆ No      ┆ … ┆ Mailed      ┆ 53.85       ┆ 108.15     ┆ Yes   │\n",
       "│            ┆        ┆             ┆         ┆   ┆ check       ┆             ┆            ┆       │\n",
       "│ 7795-CFOCW ┆ Male   ┆ 0           ┆ No      ┆ … ┆ Bank        ┆ 42.3        ┆ 1840.75    ┆ No    │\n",
       "│            ┆        ┆             ┆         ┆   ┆ transfer    ┆             ┆            ┆       │\n",
       "│            ┆        ┆             ┆         ┆   ┆ (automatic) ┆             ┆            ┆       │\n",
       "│ 9237-HQITU ┆ Female ┆ 0           ┆ No      ┆ … ┆ Electronic  ┆ 70.7        ┆ 151.65     ┆ Yes   │\n",
       "│            ┆        ┆             ┆         ┆   ┆ check       ┆             ┆            ┆       │\n",
       "└────────────┴────────┴─────────────┴─────────┴───┴─────────────┴─────────────┴────────────┴───────┘"
      ]
     },
     "execution_count": 43,
     "metadata": {},
     "output_type": "execute_result"
    }
   ],
   "source": [
    "df.head()"
   ]
  },
  {
   "cell_type": "code",
   "execution_count": 44,
   "id": "099fbae8",
   "metadata": {},
   "outputs": [
    {
     "data": {
      "text/plain": [
       "7043"
      ]
     },
     "execution_count": 44,
     "metadata": {},
     "output_type": "execute_result"
    }
   ],
   "source": [
    "df.shape[0]"
   ]
  },
  {
   "cell_type": "code",
   "execution_count": 45,
   "id": "777477a0",
   "metadata": {},
   "outputs": [
    {
     "data": {
      "text/html": [
       "<div><style>\n",
       ".dataframe > thead > tr,\n",
       ".dataframe > tbody > tr {\n",
       "  text-align: right;\n",
       "  white-space: pre-wrap;\n",
       "}\n",
       "</style>\n",
       "<small>shape: (2, 2)</small><table border=\"1\" class=\"dataframe\"><thead><tr><th>gender</th><th>count</th></tr><tr><td>str</td><td>u32</td></tr></thead><tbody><tr><td>&quot;Male&quot;</td><td>3555</td></tr><tr><td>&quot;Female&quot;</td><td>3488</td></tr></tbody></table></div>"
      ],
      "text/plain": [
       "shape: (2, 2)\n",
       "┌────────┬───────┐\n",
       "│ gender ┆ count │\n",
       "│ ---    ┆ ---   │\n",
       "│ str    ┆ u32   │\n",
       "╞════════╪═══════╡\n",
       "│ Male   ┆ 3555  │\n",
       "│ Female ┆ 3488  │\n",
       "└────────┴───────┘"
      ]
     },
     "execution_count": 45,
     "metadata": {},
     "output_type": "execute_result"
    }
   ],
   "source": [
    "df[\"gender\"].value_counts()"
   ]
  },
  {
   "cell_type": "code",
   "execution_count": 46,
   "id": "5e9eea97",
   "metadata": {},
   "outputs": [
    {
     "data": {
      "text/html": [
       "<div><style>\n",
       ".dataframe > thead > tr,\n",
       ".dataframe > tbody > tr {\n",
       "  text-align: right;\n",
       "  white-space: pre-wrap;\n",
       "}\n",
       "</style>\n",
       "<small>shape: (9, 22)</small><table border=\"1\" class=\"dataframe\"><thead><tr><th>statistic</th><th>customerID</th><th>gender</th><th>SeniorCitizen</th><th>Partner</th><th>Dependents</th><th>tenure</th><th>PhoneService</th><th>MultipleLines</th><th>InternetService</th><th>OnlineSecurity</th><th>OnlineBackup</th><th>DeviceProtection</th><th>TechSupport</th><th>StreamingTV</th><th>StreamingMovies</th><th>Contract</th><th>PaperlessBilling</th><th>PaymentMethod</th><th>MonthlyCharges</th><th>TotalCharges</th><th>Churn</th></tr><tr><td>str</td><td>str</td><td>str</td><td>f64</td><td>str</td><td>str</td><td>f64</td><td>str</td><td>str</td><td>str</td><td>str</td><td>str</td><td>str</td><td>str</td><td>str</td><td>str</td><td>str</td><td>str</td><td>str</td><td>f64</td><td>f64</td><td>str</td></tr></thead><tbody><tr><td>&quot;count&quot;</td><td>&quot;7043&quot;</td><td>&quot;7043&quot;</td><td>7043.0</td><td>&quot;7043&quot;</td><td>&quot;7043&quot;</td><td>7043.0</td><td>&quot;7043&quot;</td><td>&quot;7043&quot;</td><td>&quot;7043&quot;</td><td>&quot;7043&quot;</td><td>&quot;7043&quot;</td><td>&quot;7043&quot;</td><td>&quot;7043&quot;</td><td>&quot;7043&quot;</td><td>&quot;7043&quot;</td><td>&quot;7043&quot;</td><td>&quot;7043&quot;</td><td>&quot;7043&quot;</td><td>7043.0</td><td>7032.0</td><td>&quot;7043&quot;</td></tr><tr><td>&quot;null_count&quot;</td><td>&quot;0&quot;</td><td>&quot;0&quot;</td><td>0.0</td><td>&quot;0&quot;</td><td>&quot;0&quot;</td><td>0.0</td><td>&quot;0&quot;</td><td>&quot;0&quot;</td><td>&quot;0&quot;</td><td>&quot;0&quot;</td><td>&quot;0&quot;</td><td>&quot;0&quot;</td><td>&quot;0&quot;</td><td>&quot;0&quot;</td><td>&quot;0&quot;</td><td>&quot;0&quot;</td><td>&quot;0&quot;</td><td>&quot;0&quot;</td><td>0.0</td><td>11.0</td><td>&quot;0&quot;</td></tr><tr><td>&quot;mean&quot;</td><td>null</td><td>null</td><td>0.162147</td><td>null</td><td>null</td><td>32.371149</td><td>null</td><td>null</td><td>null</td><td>null</td><td>null</td><td>null</td><td>null</td><td>null</td><td>null</td><td>null</td><td>null</td><td>null</td><td>64.761692</td><td>2283.300441</td><td>null</td></tr><tr><td>&quot;std&quot;</td><td>null</td><td>null</td><td>0.368612</td><td>null</td><td>null</td><td>24.559481</td><td>null</td><td>null</td><td>null</td><td>null</td><td>null</td><td>null</td><td>null</td><td>null</td><td>null</td><td>null</td><td>null</td><td>null</td><td>30.090047</td><td>2266.771362</td><td>null</td></tr><tr><td>&quot;min&quot;</td><td>&quot;0002-ORFBO&quot;</td><td>&quot;Female&quot;</td><td>0.0</td><td>&quot;No&quot;</td><td>&quot;No&quot;</td><td>0.0</td><td>&quot;No&quot;</td><td>&quot;No&quot;</td><td>&quot;DSL&quot;</td><td>&quot;No&quot;</td><td>&quot;No&quot;</td><td>&quot;No&quot;</td><td>&quot;No&quot;</td><td>&quot;No&quot;</td><td>&quot;No&quot;</td><td>&quot;Month-to-month&quot;</td><td>&quot;No&quot;</td><td>&quot;Bank transfer (automatic)&quot;</td><td>18.25</td><td>18.8</td><td>&quot;No&quot;</td></tr><tr><td>&quot;25%&quot;</td><td>null</td><td>null</td><td>0.0</td><td>null</td><td>null</td><td>9.0</td><td>null</td><td>null</td><td>null</td><td>null</td><td>null</td><td>null</td><td>null</td><td>null</td><td>null</td><td>null</td><td>null</td><td>null</td><td>35.5</td><td>401.5</td><td>null</td></tr><tr><td>&quot;50%&quot;</td><td>null</td><td>null</td><td>0.0</td><td>null</td><td>null</td><td>29.0</td><td>null</td><td>null</td><td>null</td><td>null</td><td>null</td><td>null</td><td>null</td><td>null</td><td>null</td><td>null</td><td>null</td><td>null</td><td>70.35</td><td>1397.65</td><td>null</td></tr><tr><td>&quot;75%&quot;</td><td>null</td><td>null</td><td>0.0</td><td>null</td><td>null</td><td>55.0</td><td>null</td><td>null</td><td>null</td><td>null</td><td>null</td><td>null</td><td>null</td><td>null</td><td>null</td><td>null</td><td>null</td><td>null</td><td>89.85</td><td>3794.5</td><td>null</td></tr><tr><td>&quot;max&quot;</td><td>&quot;9995-HOTOH&quot;</td><td>&quot;Male&quot;</td><td>1.0</td><td>&quot;Yes&quot;</td><td>&quot;Yes&quot;</td><td>72.0</td><td>&quot;Yes&quot;</td><td>&quot;Yes&quot;</td><td>&quot;No&quot;</td><td>&quot;Yes&quot;</td><td>&quot;Yes&quot;</td><td>&quot;Yes&quot;</td><td>&quot;Yes&quot;</td><td>&quot;Yes&quot;</td><td>&quot;Yes&quot;</td><td>&quot;Two year&quot;</td><td>&quot;Yes&quot;</td><td>&quot;Mailed check&quot;</td><td>118.75</td><td>8684.8</td><td>&quot;Yes&quot;</td></tr></tbody></table></div>"
      ],
      "text/plain": [
       "shape: (9, 22)\n",
       "┌────────────┬────────────┬────────┬────────────┬───┬────────────┬────────────┬────────────┬───────┐\n",
       "│ statistic  ┆ customerID ┆ gender ┆ SeniorCiti ┆ … ┆ PaymentMet ┆ MonthlyCha ┆ TotalCharg ┆ Churn │\n",
       "│ ---        ┆ ---        ┆ ---    ┆ zen        ┆   ┆ hod        ┆ rges       ┆ es         ┆ ---   │\n",
       "│ str        ┆ str        ┆ str    ┆ ---        ┆   ┆ ---        ┆ ---        ┆ ---        ┆ str   │\n",
       "│            ┆            ┆        ┆ f64        ┆   ┆ str        ┆ f64        ┆ f64        ┆       │\n",
       "╞════════════╪════════════╪════════╪════════════╪═══╪════════════╪════════════╪════════════╪═══════╡\n",
       "│ count      ┆ 7043       ┆ 7043   ┆ 7043.0     ┆ … ┆ 7043       ┆ 7043.0     ┆ 7032.0     ┆ 7043  │\n",
       "│ null_count ┆ 0          ┆ 0      ┆ 0.0        ┆ … ┆ 0          ┆ 0.0        ┆ 11.0       ┆ 0     │\n",
       "│ mean       ┆ null       ┆ null   ┆ 0.162147   ┆ … ┆ null       ┆ 64.761692  ┆ 2283.30044 ┆ null  │\n",
       "│            ┆            ┆        ┆            ┆   ┆            ┆            ┆ 1          ┆       │\n",
       "│ std        ┆ null       ┆ null   ┆ 0.368612   ┆ … ┆ null       ┆ 30.090047  ┆ 2266.77136 ┆ null  │\n",
       "│            ┆            ┆        ┆            ┆   ┆            ┆            ┆ 2          ┆       │\n",
       "│ min        ┆ 0002-ORFBO ┆ Female ┆ 0.0        ┆ … ┆ Bank       ┆ 18.25      ┆ 18.8       ┆ No    │\n",
       "│            ┆            ┆        ┆            ┆   ┆ transfer   ┆            ┆            ┆       │\n",
       "│            ┆            ┆        ┆            ┆   ┆ (automatic ┆            ┆            ┆       │\n",
       "│            ┆            ┆        ┆            ┆   ┆ )          ┆            ┆            ┆       │\n",
       "│ 25%        ┆ null       ┆ null   ┆ 0.0        ┆ … ┆ null       ┆ 35.5       ┆ 401.5      ┆ null  │\n",
       "│ 50%        ┆ null       ┆ null   ┆ 0.0        ┆ … ┆ null       ┆ 70.35      ┆ 1397.65    ┆ null  │\n",
       "│ 75%        ┆ null       ┆ null   ┆ 0.0        ┆ … ┆ null       ┆ 89.85      ┆ 3794.5     ┆ null  │\n",
       "│ max        ┆ 9995-HOTOH ┆ Male   ┆ 1.0        ┆ … ┆ Mailed     ┆ 118.75     ┆ 8684.8     ┆ Yes   │\n",
       "│            ┆            ┆        ┆            ┆   ┆ check      ┆            ┆            ┆       │\n",
       "└────────────┴────────────┴────────┴────────────┴───┴────────────┴────────────┴────────────┴───────┘"
      ]
     },
     "execution_count": 46,
     "metadata": {},
     "output_type": "execute_result"
    }
   ],
   "source": [
    "df.describe()"
   ]
  },
  {
   "cell_type": "code",
   "execution_count": 47,
   "id": "a85c5cae",
   "metadata": {},
   "outputs": [],
   "source": [
    "df =df.drop(['customerID'])"
   ]
  },
  {
   "cell_type": "code",
   "execution_count": 48,
   "id": "c3855067",
   "metadata": {},
   "outputs": [
    {
     "data": {
      "text/html": [
       "<div><style>\n",
       ".dataframe > thead > tr,\n",
       ".dataframe > tbody > tr {\n",
       "  text-align: right;\n",
       "  white-space: pre-wrap;\n",
       "}\n",
       "</style>\n",
       "<small>shape: (5, 20)</small><table border=\"1\" class=\"dataframe\"><thead><tr><th>gender</th><th>SeniorCitizen</th><th>Partner</th><th>Dependents</th><th>tenure</th><th>PhoneService</th><th>MultipleLines</th><th>InternetService</th><th>OnlineSecurity</th><th>OnlineBackup</th><th>DeviceProtection</th><th>TechSupport</th><th>StreamingTV</th><th>StreamingMovies</th><th>Contract</th><th>PaperlessBilling</th><th>PaymentMethod</th><th>MonthlyCharges</th><th>TotalCharges</th><th>Churn</th></tr><tr><td>str</td><td>i64</td><td>str</td><td>str</td><td>i64</td><td>str</td><td>str</td><td>str</td><td>str</td><td>str</td><td>str</td><td>str</td><td>str</td><td>str</td><td>str</td><td>str</td><td>str</td><td>f64</td><td>f64</td><td>str</td></tr></thead><tbody><tr><td>&quot;Female&quot;</td><td>0</td><td>&quot;Yes&quot;</td><td>&quot;No&quot;</td><td>1</td><td>&quot;No&quot;</td><td>&quot;No phone service&quot;</td><td>&quot;DSL&quot;</td><td>&quot;No&quot;</td><td>&quot;Yes&quot;</td><td>&quot;No&quot;</td><td>&quot;No&quot;</td><td>&quot;No&quot;</td><td>&quot;No&quot;</td><td>&quot;Month-to-month&quot;</td><td>&quot;Yes&quot;</td><td>&quot;Electronic check&quot;</td><td>29.85</td><td>29.85</td><td>&quot;No&quot;</td></tr><tr><td>&quot;Male&quot;</td><td>0</td><td>&quot;No&quot;</td><td>&quot;No&quot;</td><td>34</td><td>&quot;Yes&quot;</td><td>&quot;No&quot;</td><td>&quot;DSL&quot;</td><td>&quot;Yes&quot;</td><td>&quot;No&quot;</td><td>&quot;Yes&quot;</td><td>&quot;No&quot;</td><td>&quot;No&quot;</td><td>&quot;No&quot;</td><td>&quot;One year&quot;</td><td>&quot;No&quot;</td><td>&quot;Mailed check&quot;</td><td>56.95</td><td>1889.5</td><td>&quot;No&quot;</td></tr><tr><td>&quot;Male&quot;</td><td>0</td><td>&quot;No&quot;</td><td>&quot;No&quot;</td><td>2</td><td>&quot;Yes&quot;</td><td>&quot;No&quot;</td><td>&quot;DSL&quot;</td><td>&quot;Yes&quot;</td><td>&quot;Yes&quot;</td><td>&quot;No&quot;</td><td>&quot;No&quot;</td><td>&quot;No&quot;</td><td>&quot;No&quot;</td><td>&quot;Month-to-month&quot;</td><td>&quot;Yes&quot;</td><td>&quot;Mailed check&quot;</td><td>53.85</td><td>108.15</td><td>&quot;Yes&quot;</td></tr><tr><td>&quot;Male&quot;</td><td>0</td><td>&quot;No&quot;</td><td>&quot;No&quot;</td><td>45</td><td>&quot;No&quot;</td><td>&quot;No phone service&quot;</td><td>&quot;DSL&quot;</td><td>&quot;Yes&quot;</td><td>&quot;No&quot;</td><td>&quot;Yes&quot;</td><td>&quot;Yes&quot;</td><td>&quot;No&quot;</td><td>&quot;No&quot;</td><td>&quot;One year&quot;</td><td>&quot;No&quot;</td><td>&quot;Bank transfer (automatic)&quot;</td><td>42.3</td><td>1840.75</td><td>&quot;No&quot;</td></tr><tr><td>&quot;Female&quot;</td><td>0</td><td>&quot;No&quot;</td><td>&quot;No&quot;</td><td>2</td><td>&quot;Yes&quot;</td><td>&quot;No&quot;</td><td>&quot;Fiber optic&quot;</td><td>&quot;No&quot;</td><td>&quot;No&quot;</td><td>&quot;No&quot;</td><td>&quot;No&quot;</td><td>&quot;No&quot;</td><td>&quot;No&quot;</td><td>&quot;Month-to-month&quot;</td><td>&quot;Yes&quot;</td><td>&quot;Electronic check&quot;</td><td>70.7</td><td>151.65</td><td>&quot;Yes&quot;</td></tr></tbody></table></div>"
      ],
      "text/plain": [
       "shape: (5, 20)\n",
       "┌────────┬─────────────┬─────────┬────────────┬───┬─────────────┬─────────────┬────────────┬───────┐\n",
       "│ gender ┆ SeniorCitiz ┆ Partner ┆ Dependents ┆ … ┆ PaymentMeth ┆ MonthlyChar ┆ TotalCharg ┆ Churn │\n",
       "│ ---    ┆ en          ┆ ---     ┆ ---        ┆   ┆ od          ┆ ges         ┆ es         ┆ ---   │\n",
       "│ str    ┆ ---         ┆ str     ┆ str        ┆   ┆ ---         ┆ ---         ┆ ---        ┆ str   │\n",
       "│        ┆ i64         ┆         ┆            ┆   ┆ str         ┆ f64         ┆ f64        ┆       │\n",
       "╞════════╪═════════════╪═════════╪════════════╪═══╪═════════════╪═════════════╪════════════╪═══════╡\n",
       "│ Female ┆ 0           ┆ Yes     ┆ No         ┆ … ┆ Electronic  ┆ 29.85       ┆ 29.85      ┆ No    │\n",
       "│        ┆             ┆         ┆            ┆   ┆ check       ┆             ┆            ┆       │\n",
       "│ Male   ┆ 0           ┆ No      ┆ No         ┆ … ┆ Mailed      ┆ 56.95       ┆ 1889.5     ┆ No    │\n",
       "│        ┆             ┆         ┆            ┆   ┆ check       ┆             ┆            ┆       │\n",
       "│ Male   ┆ 0           ┆ No      ┆ No         ┆ … ┆ Mailed      ┆ 53.85       ┆ 108.15     ┆ Yes   │\n",
       "│        ┆             ┆         ┆            ┆   ┆ check       ┆             ┆            ┆       │\n",
       "│ Male   ┆ 0           ┆ No      ┆ No         ┆ … ┆ Bank        ┆ 42.3        ┆ 1840.75    ┆ No    │\n",
       "│        ┆             ┆         ┆            ┆   ┆ transfer    ┆             ┆            ┆       │\n",
       "│        ┆             ┆         ┆            ┆   ┆ (automatic) ┆             ┆            ┆       │\n",
       "│ Female ┆ 0           ┆ No      ┆ No         ┆ … ┆ Electronic  ┆ 70.7        ┆ 151.65     ┆ Yes   │\n",
       "│        ┆             ┆         ┆            ┆   ┆ check       ┆             ┆            ┆       │\n",
       "└────────┴─────────────┴─────────┴────────────┴───┴─────────────┴─────────────┴────────────┴───────┘"
      ]
     },
     "execution_count": 48,
     "metadata": {},
     "output_type": "execute_result"
    }
   ],
   "source": [
    "df.head()"
   ]
  },
  {
   "cell_type": "code",
   "execution_count": 49,
   "id": "f1681361",
   "metadata": {},
   "outputs": [
    {
     "data": {
      "text/html": [
       "<div><style>\n",
       ".dataframe > thead > tr,\n",
       ".dataframe > tbody > tr {\n",
       "  text-align: right;\n",
       "  white-space: pre-wrap;\n",
       "}\n",
       "</style>\n",
       "<small>shape: (1, 20)</small><table border=\"1\" class=\"dataframe\"><thead><tr><th>gender</th><th>SeniorCitizen</th><th>Partner</th><th>Dependents</th><th>tenure</th><th>PhoneService</th><th>MultipleLines</th><th>InternetService</th><th>OnlineSecurity</th><th>OnlineBackup</th><th>DeviceProtection</th><th>TechSupport</th><th>StreamingTV</th><th>StreamingMovies</th><th>Contract</th><th>PaperlessBilling</th><th>PaymentMethod</th><th>MonthlyCharges</th><th>TotalCharges</th><th>Churn</th></tr><tr><td>u32</td><td>u32</td><td>u32</td><td>u32</td><td>u32</td><td>u32</td><td>u32</td><td>u32</td><td>u32</td><td>u32</td><td>u32</td><td>u32</td><td>u32</td><td>u32</td><td>u32</td><td>u32</td><td>u32</td><td>u32</td><td>u32</td><td>u32</td></tr></thead><tbody><tr><td>0</td><td>0</td><td>0</td><td>0</td><td>0</td><td>0</td><td>0</td><td>0</td><td>0</td><td>0</td><td>0</td><td>0</td><td>0</td><td>0</td><td>0</td><td>0</td><td>0</td><td>0</td><td>11</td><td>0</td></tr></tbody></table></div>"
      ],
      "text/plain": [
       "shape: (1, 20)\n",
       "┌────────┬─────────────┬─────────┬────────────┬───┬─────────────┬─────────────┬────────────┬───────┐\n",
       "│ gender ┆ SeniorCitiz ┆ Partner ┆ Dependents ┆ … ┆ PaymentMeth ┆ MonthlyChar ┆ TotalCharg ┆ Churn │\n",
       "│ ---    ┆ en          ┆ ---     ┆ ---        ┆   ┆ od          ┆ ges         ┆ es         ┆ ---   │\n",
       "│ u32    ┆ ---         ┆ u32     ┆ u32        ┆   ┆ ---         ┆ ---         ┆ ---        ┆ u32   │\n",
       "│        ┆ u32         ┆         ┆            ┆   ┆ u32         ┆ u32         ┆ u32        ┆       │\n",
       "╞════════╪═════════════╪═════════╪════════════╪═══╪═════════════╪═════════════╪════════════╪═══════╡\n",
       "│ 0      ┆ 0           ┆ 0       ┆ 0          ┆ … ┆ 0           ┆ 0           ┆ 11         ┆ 0     │\n",
       "└────────┴─────────────┴─────────┴────────────┴───┴─────────────┴─────────────┴────────────┴───────┘"
      ]
     },
     "execution_count": 49,
     "metadata": {},
     "output_type": "execute_result"
    }
   ],
   "source": [
    "df.null_count()"
   ]
  },
  {
   "cell_type": "code",
   "execution_count": 50,
   "id": "056cc030",
   "metadata": {},
   "outputs": [],
   "source": [
    "df1=df.drop_nulls(subset=[\"TotalCharges\"])"
   ]
  },
  {
   "cell_type": "code",
   "execution_count": 59,
   "id": "a09cd086",
   "metadata": {},
   "outputs": [
    {
     "data": {
      "text/plain": [
       "['gender',\n",
       " 'SeniorCitizen',\n",
       " 'Partner',\n",
       " 'Dependents',\n",
       " 'tenure',\n",
       " 'PhoneService',\n",
       " 'MultipleLines',\n",
       " 'InternetService',\n",
       " 'OnlineSecurity',\n",
       " 'OnlineBackup',\n",
       " 'DeviceProtection',\n",
       " 'TechSupport',\n",
       " 'StreamingTV',\n",
       " 'StreamingMovies',\n",
       " 'Contract',\n",
       " 'PaperlessBilling',\n",
       " 'PaymentMethod',\n",
       " 'MonthlyCharges',\n",
       " 'TotalCharges',\n",
       " 'Churn']"
      ]
     },
     "execution_count": 59,
     "metadata": {},
     "output_type": "execute_result"
    }
   ],
   "source": [
    "df.columns"
   ]
  },
  {
   "cell_type": "code",
   "execution_count": 51,
   "id": "78092861",
   "metadata": {},
   "outputs": [
    {
     "data": {
      "text/html": [
       "<div><style>\n",
       ".dataframe > thead > tr,\n",
       ".dataframe > tbody > tr {\n",
       "  text-align: right;\n",
       "  white-space: pre-wrap;\n",
       "}\n",
       "</style>\n",
       "<small>shape: (1, 20)</small><table border=\"1\" class=\"dataframe\"><thead><tr><th>gender</th><th>SeniorCitizen</th><th>Partner</th><th>Dependents</th><th>tenure</th><th>PhoneService</th><th>MultipleLines</th><th>InternetService</th><th>OnlineSecurity</th><th>OnlineBackup</th><th>DeviceProtection</th><th>TechSupport</th><th>StreamingTV</th><th>StreamingMovies</th><th>Contract</th><th>PaperlessBilling</th><th>PaymentMethod</th><th>MonthlyCharges</th><th>TotalCharges</th><th>Churn</th></tr><tr><td>u32</td><td>u32</td><td>u32</td><td>u32</td><td>u32</td><td>u32</td><td>u32</td><td>u32</td><td>u32</td><td>u32</td><td>u32</td><td>u32</td><td>u32</td><td>u32</td><td>u32</td><td>u32</td><td>u32</td><td>u32</td><td>u32</td><td>u32</td></tr></thead><tbody><tr><td>0</td><td>0</td><td>0</td><td>0</td><td>0</td><td>0</td><td>0</td><td>0</td><td>0</td><td>0</td><td>0</td><td>0</td><td>0</td><td>0</td><td>0</td><td>0</td><td>0</td><td>0</td><td>0</td><td>0</td></tr></tbody></table></div>"
      ],
      "text/plain": [
       "shape: (1, 20)\n",
       "┌────────┬─────────────┬─────────┬────────────┬───┬─────────────┬─────────────┬────────────┬───────┐\n",
       "│ gender ┆ SeniorCitiz ┆ Partner ┆ Dependents ┆ … ┆ PaymentMeth ┆ MonthlyChar ┆ TotalCharg ┆ Churn │\n",
       "│ ---    ┆ en          ┆ ---     ┆ ---        ┆   ┆ od          ┆ ges         ┆ es         ┆ ---   │\n",
       "│ u32    ┆ ---         ┆ u32     ┆ u32        ┆   ┆ ---         ┆ ---         ┆ ---        ┆ u32   │\n",
       "│        ┆ u32         ┆         ┆            ┆   ┆ u32         ┆ u32         ┆ u32        ┆       │\n",
       "╞════════╪═════════════╪═════════╪════════════╪═══╪═════════════╪═════════════╪════════════╪═══════╡\n",
       "│ 0      ┆ 0           ┆ 0       ┆ 0          ┆ … ┆ 0           ┆ 0           ┆ 0          ┆ 0     │\n",
       "└────────┴─────────────┴─────────┴────────────┴───┴─────────────┴─────────────┴────────────┴───────┘"
      ]
     },
     "execution_count": 51,
     "metadata": {},
     "output_type": "execute_result"
    }
   ],
   "source": [
    "df1.null_count()"
   ]
  },
  {
   "cell_type": "code",
   "execution_count": 52,
   "id": "822ddf4c",
   "metadata": {},
   "outputs": [],
   "source": [
    "df1 = df1.rename({\n",
    "    'gender': 'Gender',\n",
    "    'SeniorCitizen': 'Senior_Citizen',\n",
    "    'tenure': 'Tenure',\n",
    "    'PhoneService': 'Phone_Service',\n",
    "    'MultipleLines': 'Multiple_Lines',\n",
    "    'InternetService': 'Internet_Service',\n",
    "    'OnlineSecurity': 'Online_Security',\n",
    "    'OnlineBackup': 'Online_Backup',\n",
    "    'DeviceProtection': 'Device_Protection',\n",
    "    'TechSupport': 'Tech_Support',\n",
    "    'StreamingTV': 'Streaming_TV',\n",
    "    'StreamingMovies': 'Streaming_Movies',\n",
    "    'PaperlessBilling': 'Paperless_Billing',\n",
    "    'PaymentMethod': 'Payment_Method',\n",
    "    'MonthlyCharges': 'Monthly_Charges',\n",
    "    'TotalCharges': 'Total_Charges'\n",
    "})"
   ]
  },
  {
   "cell_type": "code",
   "execution_count": 53,
   "id": "4d11af16",
   "metadata": {},
   "outputs": [],
   "source": [
    "# Feature lists\n",
    "\n",
    "num_features = [\"Tenure\", 'Monthly_Charges', 'Total_Charges']\n",
    "\n",
    "cat_features = ['Gender','Senior_Citizen','Partner','Dependents','Phone_Service','Multiple_Lines',\n",
    "                'Internet_Service','Online_Security','Online_Backup','Device_Protection','Tech_Support',\n",
    "                'Streaming_TV', 'Streaming_Movies','Contract','Paperless_Billing','Payment_Method']\n",
    "\n",
    "target = 'Churn'"
   ]
  },
  {
   "cell_type": "code",
   "execution_count": 55,
   "id": "4a8328b1",
   "metadata": {},
   "outputs": [],
   "source": [
    "df1=df1.to_pandas()"
   ]
  },
  {
   "cell_type": "code",
   "execution_count": 56,
   "id": "68008c24",
   "metadata": {},
   "outputs": [
    {
     "data": {
      "text/plain": [
       "Index(['Gender', 'Senior_Citizen', 'Partner', 'Dependents', 'Tenure',\n",
       "       'Phone_Service', 'Multiple_Lines', 'Internet_Service',\n",
       "       'Online_Security', 'Online_Backup', 'Device_Protection', 'Tech_Support',\n",
       "       'Streaming_TV', 'Streaming_Movies', 'Contract', 'Paperless_Billing',\n",
       "       'Payment_Method', 'Monthly_Charges', 'Total_Charges', 'Churn'],\n",
       "      dtype='object')"
      ]
     },
     "execution_count": 56,
     "metadata": {},
     "output_type": "execute_result"
    }
   ],
   "source": [
    "df1.columns"
   ]
  },
  {
   "cell_type": "code",
   "execution_count": 57,
   "id": "7c4b1780",
   "metadata": {},
   "outputs": [],
   "source": [
    "X = df1[num_features + cat_features]\n",
    "y = df1[target].map({'Yes': 1, 'No': 0})\n",
    "\n",
    "# Split data into train and test sets\n",
    "X_train, X_test, y_train, y_test = train_test_split(X, y, stratify=y, random_state=42)"
   ]
  },
  {
   "cell_type": "code",
   "execution_count": 58,
   "id": "fa8d2e1a",
   "metadata": {},
   "outputs": [],
   "source": [
    "preprocessor = ColumnTransformer([\n",
    "    ('num', StandardScaler(), num_features),\n",
    "    ('cat', OneHotEncoder(handle_unknown='ignore'), cat_features)\n",
    "])"
   ]
  },
  {
   "cell_type": "code",
   "execution_count": null,
   "id": "418ebd88",
   "metadata": {},
   "outputs": [],
   "source": []
  }
 ],
 "metadata": {
  "kernelspec": {
   "display_name": "cutomer-churn-mlops-k8s (3.13.5)",
   "language": "python",
   "name": "python3"
  },
  "language_info": {
   "codemirror_mode": {
    "name": "ipython",
    "version": 3
   },
   "file_extension": ".py",
   "mimetype": "text/x-python",
   "name": "python",
   "nbconvert_exporter": "python",
   "pygments_lexer": "ipython3",
   "version": "3.13.5"
  }
 },
 "nbformat": 4,
 "nbformat_minor": 5
}
